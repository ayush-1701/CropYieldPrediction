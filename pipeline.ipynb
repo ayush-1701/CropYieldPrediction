{
 "cells": [
  {
   "cell_type": "markdown",
   "metadata": {},
   "source": [
    "# Pipeline for yield prediction using predicted rain and predicted temp."
   ]
  },
  {
   "cell_type": "code",
   "execution_count": 1,
   "metadata": {},
   "outputs": [],
   "source": [
    "import csv\n",
    "import numpy as np"
   ]
  },
  {
   "cell_type": "markdown",
   "metadata": {},
   "source": [
    "## Load model function to load saved rainfall,temperature and yield model"
   ]
  },
  {
   "cell_type": "code",
   "execution_count": 2,
   "metadata": {},
   "outputs": [],
   "source": [
    "def load_model(name):\n",
    "    with open(name+\".csv\", 'r') as read_file:\n",
    "        reader = csv.reader(read_file)\n",
    "        data = []\n",
    "        for row in reader:\n",
    "            data.append(row[0])\n",
    "    read_file.close()\n",
    "    data = np.asarray(data, dtype=np.float64)\n",
    "    return data"
   ]
  },
  {
   "cell_type": "markdown",
   "metadata": {},
   "source": [
    "## Prediction function of rain"
   ]
  },
  {
   "cell_type": "code",
   "execution_count": 3,
   "metadata": {},
   "outputs": [],
   "source": [
    "def _predict_rain(model, year):\n",
    "    x = year\n",
    "    eq_sum = 0\n",
    "    for j in range(0, model.shape[0]):\n",
    "        eq_sum += (model[j] * (x**(model.shape[0]-j-1)))\n",
    "    if eq_sum < 0:\n",
    "        eq_sum = 0\n",
    "    return eq_sum"
   ]
  },
  {
   "cell_type": "markdown",
   "metadata": {},
   "source": [
    "## Prediction function of temperature"
   ]
  },
  {
   "cell_type": "code",
   "execution_count": 4,
   "metadata": {},
   "outputs": [],
   "source": [
    "def _predict_temp(model, year):\n",
    "    total = 0\n",
    "    for i in range(1,13):\n",
    "        x = year+(year*i)/12\n",
    "        eq_sum = 0\n",
    "        for j in range(0, model.shape[0]):\n",
    "            eq_sum += (model[j] * (x**(model.shape[0]-j-1)))\n",
    "        \n",
    "        if eq_sum < 0:\n",
    "            eq_sum = 0\n",
    "        total += eq_sum\n",
    "    avrg = total/12\n",
    "    return avrg"
   ]
  },
  {
   "cell_type": "markdown",
   "metadata": {},
   "source": [
    "## Prediction function of yield"
   ]
  },
  {
   "cell_type": "code",
   "execution_count": 5,
   "metadata": {},
   "outputs": [],
   "source": [
    "def yield_prediction(X, W, b):\n",
    "\n",
    "    return ((np.matmul(X,W)+b)[0])"
   ]
  },
  {
   "cell_type": "markdown",
   "metadata": {},
   "source": [
    "## Passing parameters to the rainfall function with model and year\n",
    "Results with node weights"
   ]
  },
  {
   "cell_type": "code",
   "execution_count": 6,
   "metadata": {},
   "outputs": [
    {
     "name": "stdout",
     "output_type": "stream",
     "text": [
      "[-3.22478817e-02  1.27600267e+02 -1.25362591e+05]\n",
      "808.3415835701744\n"
     ]
    }
   ],
   "source": [
    "#predict rain\n",
    "rain_model = load_model('models/bagalkot_rain')\n",
    "print(rain_model)\n",
    "rain = _predict_rain(rain_model, 2019)\n",
    "print(rain)"
   ]
  },
  {
   "cell_type": "markdown",
   "metadata": {},
   "source": [
    "## Passing parameters to the Temperature function with model and year\n",
    "Results with node weights"
   ]
  },
  {
   "cell_type": "code",
   "execution_count": 7,
   "metadata": {},
   "outputs": [
    {
     "name": "stdout",
     "output_type": "stream",
     "text": [
      "[-3.63122631e-77  6.56189067e-73 -3.67496860e-69  9.85563973e-67\n",
      "  4.14683198e-62  2.76860177e-59 -4.75795299e-55 -1.34587401e-51\n",
      "  3.10213905e-48  2.58107828e-44  2.47984268e-41 -2.88519682e-37\n",
      " -1.06421401e-33  1.47967419e-30  1.79615640e-26  1.24141598e-23\n",
      " -2.33316895e-19 -3.87024467e-16  3.18169324e-12  3.22923104e-09\n",
      " -5.06540943e-05  1.41571501e-01 -1.94252896e+02  1.37776585e+05\n",
      " -4.06038377e+07]\n",
      "23.034345550462604\n"
     ]
    }
   ],
   "source": [
    "#predict temp\n",
    "temp_model = load_model('models/bagalkot_temp_model_v_0')\n",
    "print(temp_model)\n",
    "temp = _predict_temp(temp_model, 2019)\n",
    "print(temp)"
   ]
  },
  {
   "cell_type": "markdown",
   "metadata": {},
   "source": [
    "## Passing parameters to the yield function with values of N,P,K of the district"
   ]
  },
  {
   "cell_type": "code",
   "execution_count": 9,
   "metadata": {},
   "outputs": [
    {
     "name": "stdout",
     "output_type": "stream",
     "text": [
      "Prediction for the YIELD is: \n",
      "[1045.29874091]\n"
     ]
    }
   ],
   "source": [
    "#load yield model\n",
    "yield_model = load_model('models/crops/bagalkot_bajra')\n",
    "weights = yield_model[:-1].reshape(5,1)\n",
    "bias = yield_model[-1]\n",
    "\n",
    "p = float(input(\"Enter P:\"))\n",
    "n = float(input(\"Enter N:\"))\n",
    "k = float(input(\"Enter K:\"))\n",
    "\n",
    "'''p = 41.25\n",
    "n = 39.11\n",
    "k = 7.13'''\n",
    "\n",
    "x = np.array([rain, temp, n, p, k]).reshape(5,1)\n",
    "x = x.T\n",
    "ans = yield_prediction(x, weights, bias)\n",
    "print(\"Prediction for the YIELD is: \")\n",
    "print(ans)"
   ]
  },
  {
   "cell_type": "code",
   "execution_count": null,
   "outputs": [],
   "source": [],
   "metadata": {
    "collapsed": false,
    "pycharm": {
     "name": "#%%\n"
    }
   }
  }
 ],
 "metadata": {
  "kernelspec": {
   "display_name": "Python 3",
   "language": "python",
   "name": "python3"
  },
  "language_info": {
   "codemirror_mode": {
    "name": "ipython",
    "version": 3
   },
   "file_extension": ".py",
   "mimetype": "text/x-python",
   "name": "python",
   "nbconvert_exporter": "python",
   "pygments_lexer": "ipython3",
   "version": "3.7.0"
  }
 },
 "nbformat": 4,
 "nbformat_minor": 2
}