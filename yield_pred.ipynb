{
 "cells": [
  {
   "cell_type": "markdown",
   "metadata": {},
   "source": [
    "# Crop yield prediction using perceptron model\n"
   ]
  },
  {
   "cell_type": "code",
   "execution_count": 1,
   "metadata": {},
   "outputs": [],
   "source": [
    "import numpy as np\n",
    "import pandas as pd\n",
    "import csv"
   ]
  },
  {
   "cell_type": "code",
   "execution_count": 3,
   "metadata": {},
   "outputs": [],
   "source": [
    "data = None"
   ]
  },
  {
   "cell_type": "code",
   "execution_count": 4,
   "metadata": {},
   "outputs": [
    {
     "ename": "NameError",
     "evalue": "name 'pd' is not defined",
     "output_type": "error",
     "traceback": [
      "\u001B[1;31m---------------------------------------------------------------------------\u001B[0m",
      "\u001B[1;31mNameError\u001B[0m                                 Traceback (most recent call last)",
      "\u001B[1;32m<ipython-input-4-8cb4c14d2495>\u001B[0m in \u001B[0;36m<module>\u001B[1;34m\u001B[0m\n\u001B[0;32m      1\u001B[0m \u001B[1;32mwith\u001B[0m \u001B[0mopen\u001B[0m\u001B[1;33m(\u001B[0m\u001B[1;34m'data/bagalkot.csv'\u001B[0m\u001B[1;33m,\u001B[0m \u001B[1;34m'r'\u001B[0m\u001B[1;33m)\u001B[0m \u001B[1;32mas\u001B[0m \u001B[0mdata_file\u001B[0m\u001B[1;33m:\u001B[0m\u001B[1;33m\u001B[0m\u001B[1;33m\u001B[0m\u001B[0m\n\u001B[1;32m----> 2\u001B[1;33m     \u001B[0mdata\u001B[0m \u001B[1;33m=\u001B[0m \u001B[0mpd\u001B[0m\u001B[1;33m.\u001B[0m\u001B[0mread_csv\u001B[0m\u001B[1;33m(\u001B[0m\u001B[0mdata_file\u001B[0m\u001B[1;33m,\u001B[0m \u001B[0mdelimiter\u001B[0m\u001B[1;33m=\u001B[0m\u001B[1;34m','\u001B[0m\u001B[1;33m)\u001B[0m\u001B[1;33m\u001B[0m\u001B[1;33m\u001B[0m\u001B[0m\n\u001B[0m\u001B[0;32m      3\u001B[0m \u001B[0mdata\u001B[0m\u001B[1;33m.\u001B[0m\u001B[0mhead\u001B[0m\u001B[1;33m(\u001B[0m\u001B[1;33m)\u001B[0m\u001B[1;33m\u001B[0m\u001B[1;33m\u001B[0m\u001B[0m\n\u001B[0;32m      4\u001B[0m \u001B[1;33m\u001B[0m\u001B[0m\n",
      "\u001B[1;31mNameError\u001B[0m: name 'pd' is not defined"
     ]
    }
   ],
   "source": [
    "with open('data/bagalkot.csv', 'r') as data_file:\n",
    "    data = pd.read_csv(data_file, delimiter=',')\n",
    "data.head()"
   ]
  },
  {
   "cell_type": "markdown",
   "metadata": {},
   "source": [
    "## Training data\n",
    "- X_train :- N,P,K,Rainfall and temperature data\n",
    "- Y-train :- Yield data"
   ]
  },
  {
   "cell_type": "code",
   "execution_count": 5,
   "metadata": {},
   "outputs": [],
   "source": [
    "X_train = []\n",
    "Y_train = []"
   ]
  },
  {
   "cell_type": "code",
   "execution_count": 6,
   "metadata": {},
   "outputs": [
    {
     "ename": "AttributeError",
     "evalue": "'NoneType' object has no attribute 'iterrows'",
     "output_type": "error",
     "traceback": [
      "\u001B[1;31m---------------------------------------------------------------------------\u001B[0m",
      "\u001B[1;31mAttributeError\u001B[0m                            Traceback (most recent call last)",
      "\u001B[1;32m<ipython-input-6-e696952abf89>\u001B[0m in \u001B[0;36m<module>\u001B[1;34m\u001B[0m\n\u001B[1;32m----> 1\u001B[1;33m \u001B[1;32mfor\u001B[0m \u001B[0m_\u001B[0m\u001B[1;33m,\u001B[0m \u001B[0mrow\u001B[0m \u001B[1;32min\u001B[0m \u001B[0mdata\u001B[0m\u001B[1;33m.\u001B[0m\u001B[0miterrows\u001B[0m\u001B[1;33m(\u001B[0m\u001B[1;33m)\u001B[0m\u001B[1;33m:\u001B[0m\u001B[1;33m\u001B[0m\u001B[1;33m\u001B[0m\u001B[0m\n\u001B[0m\u001B[0;32m      2\u001B[0m     \u001B[0mX_train\u001B[0m\u001B[1;33m.\u001B[0m\u001B[0mappend\u001B[0m\u001B[1;33m(\u001B[0m\u001B[1;33m[\u001B[0m\u001B[0mrow\u001B[0m\u001B[1;33m[\u001B[0m\u001B[1;34m\"Rainfall\"\u001B[0m\u001B[1;33m]\u001B[0m\u001B[1;33m,\u001B[0m \u001B[0mrow\u001B[0m\u001B[1;33m[\u001B[0m\u001B[1;34m\"Temp\"\u001B[0m\u001B[1;33m]\u001B[0m\u001B[1;33m,\u001B[0m \u001B[0mrow\u001B[0m\u001B[1;33m[\u001B[0m\u001B[1;34m\"N\"\u001B[0m\u001B[1;33m]\u001B[0m\u001B[1;33m,\u001B[0m\u001B[0mrow\u001B[0m\u001B[1;33m[\u001B[0m\u001B[1;34m\"P\"\u001B[0m\u001B[1;33m]\u001B[0m\u001B[1;33m,\u001B[0m \u001B[0mrow\u001B[0m\u001B[1;33m[\u001B[0m\u001B[1;34m\"K\"\u001B[0m\u001B[1;33m]\u001B[0m\u001B[1;33m]\u001B[0m\u001B[1;33m)\u001B[0m\u001B[1;33m\u001B[0m\u001B[1;33m\u001B[0m\u001B[0m\n\u001B[0;32m      3\u001B[0m     \u001B[0mY_train\u001B[0m\u001B[1;33m.\u001B[0m\u001B[0mappend\u001B[0m\u001B[1;33m(\u001B[0m\u001B[0mrow\u001B[0m\u001B[1;33m[\u001B[0m\u001B[1;34m\"Yield(Tons/Hectre)\"\u001B[0m\u001B[1;33m]\u001B[0m\u001B[1;33m)\u001B[0m\u001B[1;33m\u001B[0m\u001B[1;33m\u001B[0m\u001B[0m\n\u001B[0;32m      4\u001B[0m \u001B[1;33m\u001B[0m\u001B[0m\n\u001B[0;32m      5\u001B[0m \u001B[0mX_train\u001B[0m \u001B[1;33m=\u001B[0m \u001B[0mnp\u001B[0m\u001B[1;33m.\u001B[0m\u001B[0marray\u001B[0m\u001B[1;33m(\u001B[0m\u001B[0mX_train\u001B[0m\u001B[1;33m)\u001B[0m\u001B[1;33m\u001B[0m\u001B[1;33m\u001B[0m\u001B[0m\n",
      "\u001B[1;31mAttributeError\u001B[0m: 'NoneType' object has no attribute 'iterrows'"
     ]
    }
   ],
   "source": [
    "for _, row in data.iterrows():\n",
    "    X_train.append([row[\"Rainfall\"], row[\"Temp\"], row[\"N\"],row[\"P\"], row[\"K\"]])\n",
    "    Y_train.append(row[\"Yield(Tons/Hectre)\"])\n",
    "\n",
    "X_train = np.array(X_train)\n",
    "Y_train = np.array(Y_train)*1000\n",
    "print(X_train.shape)\n",
    "print(Y_train.shape)"
   ]
  },
  {
   "cell_type": "markdown",
   "metadata": {},
   "source": [
    "## Yield prediction done according to following points\n",
    "- Prediction formula is Wi*Xi+bias where W= Weight of X , X = (N,P,K,Rainfall,Temp).\n",
    "- Network is of 5 nodes with N,P,K,Rainfall,Temp"
   ]
  },
  {
   "cell_type": "code",
   "execution_count": null,
   "metadata": {},
   "outputs": [],
   "source": [
    "weights = None\n",
    "bias = None\n",
    "#step value\n",
    "def prediction(X, W, b):\n",
    "\n",
    "    return ((np.matmul(X,W)+b)[0])\n",
    "\n",
    "#functon for getting weight\n",
    "def Stepfunction(X, y, W, b, learn_rate = 0.01):\n",
    "\n",
    "    for i in range(0, len(X)):\n",
    "\n",
    "        y_hat = prediction(X[i], W, b)\n",
    "\n",
    "        if y[i] > y_hat:\n",
    "\n",
    "            W[0] += (X[i][0]*learn_rate)\n",
    "            W[1] += (X[i][1]*learn_rate)\n",
    "            W[2] += (X[i][2]*learn_rate)\n",
    "            W[3] += (X[i][3]*learn_rate)\n",
    "            W[4] += (X[i][4]*learn_rate)\n",
    "            #W[5] += (X[i][5]*learn_rate)\n",
    "            #W[6] += (X[i][6]*learn_rate)\n",
    "            \n",
    "            b += learn_rate\n",
    "\n",
    "        elif y[i] < y_hat:\n",
    "\n",
    "\n",
    "\n",
    "            W[0] -= (X[i][0]*learn_rate)\n",
    "            W[1] -= (X[i][1]*learn_rate)\n",
    "            W[2] -= (X[i][2]*learn_rate)\n",
    "            W[3] -= (X[i][3]*learn_rate)\n",
    "            W[4] -= (X[i][4]*learn_rate)\n",
    "            #W[5] -= (X[i][5]*learn_rate)\n",
    "            #W[6] -= (X[i][6]*learn_rate)\n",
    "            \n",
    "            b -= learn_rate\n",
    "\n",
    "    return W, b\n",
    "\n",
    "#function to find the equation of boundary lines\n",
    "def trainmodel(X, y, learn_rate=0.00005, num_epoches=10000):\n",
    "\n",
    "    global weights, bias\n",
    "    #finding max and min values\n",
    "    x1_min, x1_max = min(X.T[0]), max(X.T[0])\n",
    "    x2_min, x2_max = min(X.T[1]), max(X.T[1])\n",
    "    x3_min, x3_max = min(X.T[2]), max(X.T[2])\n",
    "    x4_min, x4_max = min(X.T[3]), max(X.T[3])\n",
    "    x5_min, x5_max = min(X.T[4]), max(X.T[4])\n",
    "    #x6_min, x6_max = min(X.T[5]), max(X.T[5])\n",
    "    #x7_min, x7_max = min(X.T[6]), max(X.T[6])\n",
    "    \n",
    "    W = np.array(np.random.rand(5,1)) \n",
    "\n",
    "    b = np.random.rand(1)[0] + (x1_max+x2_max+x3_max+x4_max+x5_max)/5#+x6_max+x7_max)/7\n",
    "\n",
    "    #training the model\n",
    "    for i in range(0,num_epoches):\n",
    "        W, b = Stepfunction(X, y, W, b, learn_rate)\n",
    "    weights = W\n",
    "    bias = b\n",
    "    print(W,b)\n",
    "\n",
    "if __name__ == '__main__':\n",
    "    trainmodel(X_train[:20], Y_train[:20])\n",
    "    idx =13\n",
    "    pred=np.matmul(X_train[idx],weights)+bias\n",
    "    act=Y_train[idx]\n",
    "    print(\"Predicted :\",pred)\n",
    "    print(\"Actual :\",act)\n",
    "    error = abs(pred - act)\n",
    "    print(\"Error: \", error)\n",
    "    print('Mean Absolute Error:', round(np.mean(error), 3), 'degrees.')\n",
    "    mape = 100 * (error / act)\n",
    "    # Calculate and display accuracy\n",
    "    accuracy = 100 - np.mean(mape)\n",
    "    print('Accuracy:', round(accuracy, 4), '%')"
   ]
  },
  {
   "cell_type": "markdown",
   "metadata": {},
   "source": [
    "## Saving weights of all nodes in a model"
   ]
  },
  {
   "cell_type": "code",
   "execution_count": null,
   "metadata": {},
   "outputs": [],
   "source": [
    "def save_model(array, name):\n",
    "    np.savetxt(name+\".csv\", array, delimiter=\",\")"
   ]
  },
  {
   "cell_type": "code",
   "execution_count": 22,
   "metadata": {},
   "outputs": [],
   "source": [
    "def load_model(name):\n",
    "    with open(name+\".csv\", 'r') as read_file:\n",
    "        reader = csv.reader(read_file)\n",
    "        data = []\n",
    "        for row in reader:\n",
    "            data.append(row[0])\n",
    "    read_file.close()\n",
    "    data = np.asarray(data, dtype=np.float64)\n",
    "    return data"
   ]
  },
  {
   "cell_type": "markdown",
   "metadata": {},
   "source": [
    "## Save model for every crop in every district of karnataka"
   ]
  },
  {
   "cell_type": "code",
   "execution_count": 24,
   "metadata": {},
   "outputs": [
    {
     "name": "stdout",
     "output_type": "stream",
     "text": [
      "[  0.9636241    0.31914253  -0.2846431    0.35134904   0.61203072\n",
      " 244.43694742]\n"
     ]
    }
   ],
   "source": [
    "wb = np.append(weights, bias)\n",
    "#wb.append(bias)\n",
    "print(wb)\n",
    "save_model(wb, 'bagalkot_wheat')"
   ]
  },
  {
   "cell_type": "code",
   "execution_count": null,
   "outputs": [],
   "source": [],
   "metadata": {
    "collapsed": false,
    "pycharm": {
     "name": "#%%\n"
    }
   }
  },
  {
   "cell_type": "code",
   "execution_count": null,
   "outputs": [],
   "source": [],
   "metadata": {
    "collapsed": false,
    "pycharm": {
     "name": "#%%\n"
    }
   }
  },
  {
   "cell_type": "code",
   "execution_count": null,
   "outputs": [],
   "source": [],
   "metadata": {
    "collapsed": false,
    "pycharm": {
     "name": "#%%\n"
    }
   }
  }
 ],
 "metadata": {
  "kernelspec": {
   "display_name": "Python 3",
   "language": "python",
   "name": "python3"
  },
  "language_info": {
   "codemirror_mode": {
    "name": "ipython",
    "version": 3
   },
   "file_extension": ".py",
   "mimetype": "text/x-python",
   "name": "python",
   "nbconvert_exporter": "python",
   "pygments_lexer": "ipython3",
   "version": "3.7.0"
  }
 },
 "nbformat": 4,
 "nbformat_minor": 2
}